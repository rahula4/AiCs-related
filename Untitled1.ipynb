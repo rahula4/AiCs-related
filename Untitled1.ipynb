{
  "nbformat": 4,
  "nbformat_minor": 0,
  "metadata": {
    "colab": {
      "name": "Untitled1.ipynb",
      "provenance": [],
      "authorship_tag": "ABX9TyO9per3yunVTJx3ZjsoQJEs",
      "include_colab_link": true
    },
    "kernelspec": {
      "name": "python3",
      "display_name": "Python 3"
    },
    "language_info": {
      "name": "python"
    }
  },
  "cells": [
    {
      "cell_type": "markdown",
      "metadata": {
        "id": "view-in-github",
        "colab_type": "text"
      },
      "source": [
        "<a href=\"https://colab.research.google.com/github/rahula4/AiCs-related/blob/main/Untitled1.ipynb\" target=\"_parent\"><img src=\"https://colab.research.google.com/assets/colab-badge.svg\" alt=\"Open In Colab\"/></a>"
      ]
    },
    {
      "cell_type": "code",
      "execution_count": 6,
      "metadata": {
        "colab": {
          "base_uri": "https://localhost:8080/"
        },
        "id": "0GgqyxHoVRiL",
        "outputId": "680de511-84af-44bf-b873-6bed93534859"
      },
      "outputs": [
        {
          "output_type": "stream",
          "name": "stdout",
          "text": [
            "('AiCS', 'EthicalHacking', 'AiCS', 'SoftwareEngineering', 'Github_Tutorial', 'Gcolab')\n"
          ]
        }
      ],
      "source": [
        "#tuples\n",
        "firstT=('AiCS','EthicalHacking','AiCS','SoftwareEngineering')\n",
        "fT=('Github_Tutorial','Gcolab')\n",
        "\n",
        "l= firstT + fT\n",
        "SecondT=('art',765,'10th','September')\n",
        "print(l)\n",
        "\n",
        "\n"
      ]
    },
    {
      "cell_type": "code",
      "source": [],
      "metadata": {
        "id": "YVyWGG4bZ2KD"
      },
      "execution_count": null,
      "outputs": []
    }
  ]
}